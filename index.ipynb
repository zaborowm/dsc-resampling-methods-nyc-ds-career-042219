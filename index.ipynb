{
 "cells": [
  {
   "cell_type": "markdown",
   "metadata": {},
   "source": [
    "# Resampling Methods\n",
    "\n",
    "## Introduction\n",
    "\n",
    "Resampling techniques are modern statistical techniques that involve taking repeated subsamples from a sample. These procedures tend to be computationally intensive, since they involve computing statistics of a subsample, creating new subsamples and repeating the process thousands or perhaps millions of times. This can allow for additional analysis of the subsamples leading to increased confidence and knowledge of the larger population. The three main techniques we will discuss here are bootstraping, jackknife and permutation tests.\n",
    "\n",
    "## Objectives\n",
    "\n",
    "You will be able to:\n",
    "* Understand permutation testing\n",
    "* Understand what jackknife is\n",
    "* Understand what bootstrapping is\n",
    "\n",
    "## Jackknife and Bootstrapping\n",
    "Let's start by defining the sampling methodology for these techniques. The bootstrap method works by taking random samples with replacement. In contrast, the jackknife, the older of the two methods, works by taking samples by removing on, or more, observations at a time. Both aim estimate the variability of point estimators derived from the original samples. \n",
    "\n",
    "The motivating principle behind both is that by analyzing the variance of parameter estimates from these synthetic samples, we can also gage the variance of our point estimate for the population itself. For example, we might take an original sample from our population and then use the jackknife or bootstrapping method to generate additional synthetic samples. By calculating the point estimate of interest for these synthetic samples, we can better gage the confidence interval and variability of our original point estimator.\n",
    "\n",
    "## Permutation Tests\n",
    "\n",
    "Another related methodology is permutation tests. Permutation tests can be used in lieu of assumed parameter distributions for any statistical test. For example, we discussed the central limit theorem: that when taking the mean of repeated sample from a population, the means of these samples will form a normal distribution. From this, we were then able to extrapolate confidence intervals surrounding our estimate for the mean of the entire population by assuming that our sample mean was from a normal distribution. This allowed us to define our confidence bands associated with various levels of type I errors which we set with $\\alpha$. In a hypothesis test, we used the same procedure to calculate the probability of a given a sample, and based on alpha, rejected or confirmed the null hypothesis. In a permutation test, rather then assume the distribution itself and calculate p-values, we would calculate all permutations of our relabeling our data and compute the parameter statistic in question for these permutations.\n",
    "\n",
    "\n",
    "For example, let's say we had two samples, one with 37 observations and the other with 45 observations. We calculate the mean of both samples and wish to perform a hypothesis test with a 5% confidence interval for whether the two samples belong to the same overall population. In our previous work, we would use a t-test to perform this comparison. The permutation test alternative would be to compare the difference in these sample means to the difference in sample means of all possible combinations of 37-45 splits between our 82 data points. In other words, we compare the difference between our actual sample means to the difference in sample means between all variations of all those 82 points in order to calculate our p-values and determine whether we accept or reject the null-hypothesis.\n",
    "\n",
    "## Additional Resources\n",
    "\n",
    "* http://hydrodictyon.eeb.uconn.edu/eebedia/images/9/9d/FelsensteinChap20.pdf\n",
    "* https://www.scss.tcd.ie/Rozenn.Dahyot/453Bootstrap/05_Permutation.pdf\n",
    "* http://iasri.res.in/seminar/AS-299/ebooks%5C2006-2007%5CMsc%5Ctrim1%5C4.%20Resampling%20Techniques%20Jackknife%20and%20Bootstrap-%20Vinayanand.pdf\n",
    "\n",
    "## Summary\n",
    "\n",
    "In this lesson, we continued discussing non-parametric statistics and investigated resampling techniques. This included bootstrapping, jackknife  and permutation tests. In the upcoming lab, you'll define functions that implement these techniques and then use them to conduct statistical simulations and tests."
   ]
  }
 ],
 "metadata": {
  "kernelspec": {
   "display_name": "Python 3",
   "language": "python",
   "name": "python3"
  },
  "language_info": {
   "codemirror_mode": {
    "name": "ipython",
    "version": 3
   },
   "file_extension": ".py",
   "mimetype": "text/x-python",
   "name": "python",
   "nbconvert_exporter": "python",
   "pygments_lexer": "ipython3",
   "version": "3.6.6"
  }
 },
 "nbformat": 4,
 "nbformat_minor": 2
}
